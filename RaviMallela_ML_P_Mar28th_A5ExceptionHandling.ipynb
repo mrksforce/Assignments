{
 "cells": [
  {
   "cell_type": "markdown",
   "metadata": {},
   "source": [
    "# A5.T1 Write a function to compute 5/0 and use try/except to catch the exceptions."
   ]
  },
  {
   "cell_type": "code",
   "execution_count": 3,
   "metadata": {},
   "outputs": [
    {
     "name": "stdout",
     "output_type": "stream",
     "text": [
      "We have ZeroDivisionError exception\n",
      "Finally we say Good Bye\n"
     ]
    }
   ],
   "source": [
    "def checkDivideException(v):\n",
    "    try:\n",
    "        value = v/0\n",
    "    except ZeroDivisionError:\n",
    "        print(\"We have ZeroDivisionError exception\")\n",
    "    else:\n",
    "        print(\"No Divide by Zero Exception\")\n",
    "    finally:\n",
    "        print(\"Finally we say Good Bye\")\n",
    "\n",
    "checkDivideException(5)"
   ]
  },
  {
   "cell_type": "markdown",
   "metadata": {},
   "source": [
    "#A5.T1 Implement a Python program to generate all sentences where subject is in [\"Americans\",\"Indians\"] and verb is in [\"Play\",\"watch\"] and the object is in [\"BasketBall\",\"cricket\"]\n"
   ]
  },
  {
   "cell_type": "code",
   "execution_count": 4,
   "metadata": {},
   "outputs": [
    {
     "name": "stdout",
     "output_type": "stream",
     "text": [
      "Americans Play BaseBall\n",
      "Americans Play Cricket\n",
      "Americans Watch BaseBall\n",
      "Americans Watch Cricket\n",
      "Indians Play BaseBall\n",
      "Indians Play Cricket\n",
      "Indians Watch BaseBall\n",
      "Indians Watch Cricket\n"
     ]
    }
   ],
   "source": [
    "subjects=[\"Americans\",\"Indians\"]\n",
    "verbs=[\"Play\",\"Watch\"]\n",
    "objects=[\"BaseBall\",\"Cricket\"]\n",
    "\n",
    "def genSentences(s,v,o):\n",
    "    for i in s:\n",
    "        for j in v:\n",
    "            for k in o:\n",
    "                print(\"%s %s %s\" %(i,j,k))\n",
    "\n",
    "genSentences(subjects,verbs,objects)\n"
   ]
  },
  {
   "cell_type": "code",
   "execution_count": null,
   "metadata": {},
   "outputs": [],
   "source": []
  }
 ],
 "metadata": {
  "kernelspec": {
   "display_name": "Python 3",
   "language": "python",
   "name": "python3"
  },
  "language_info": {
   "codemirror_mode": {
    "name": "ipython",
    "version": 3
   },
   "file_extension": ".py",
   "mimetype": "text/x-python",
   "name": "python",
   "nbconvert_exporter": "python",
   "pygments_lexer": "ipython3",
   "version": "3.7.6"
  }
 },
 "nbformat": 4,
 "nbformat_minor": 4
}
