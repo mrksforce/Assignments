{
 "cells": [
  {
   "cell_type": "markdown",
   "metadata": {},
   "source": [
    "#A4.T1.1 Write a python program ( with class concepts ) to find the area of the triangle using the below formula. area= ( s(s-a)(s-b)(s-c))*0.5 Function to take the length of the side sof traingle from user should be defined in the parent class and function to calculate the area shuld be defined in subclass"
   ]
  },
  {
   "cell_type": "code",
   "execution_count": 15,
   "metadata": {},
   "outputs": [
    {
     "name": "stdout",
     "output_type": "stream",
     "text": [
      "Enter length of side \"a\" in integer / float6\n",
      "Enter length of side \"b\" in integer / float7\n",
      "Enter length of side \"c\" in integer / float8\n",
      "Enter length of side \"s\" in integer / float9\n",
      "Area of a Right angle Triangle with sides 6.0 7.0 8.0 9.0 is 7.348469 : \n"
     ]
    }
   ],
   "source": [
    "class Traingle:\n",
    "    def __init__(self,s,a,b,c):\n",
    "        self.a=float(input('Enter length of side \"a\" in integer / float'))\n",
    "        self.b=float(input('Enter length of side \"b\" in integer / float'))\n",
    "        self.c=float(input('Enter length of side \"c\" in integer / float'))\n",
    "        self.s=float(input('Enter length of side \"s\" in integer / float'))\n",
    "class Rightangletriangle(Traingle):\n",
    "    def __init__(self,*args):\n",
    "        super(Rightangletriangle,self).__init__(*args)\n",
    "    def area(self):\n",
    "        area=(self.s*(self.s-self.a)*(self.s-self.b)*(self.s-self.c))**0.5\n",
    "        return area\n",
    "rat= Rightangletriangle(2,3,4,5)\n",
    "print(\"Area of a Right angle Triangle with sides %s %s %s %s is %f : \" %(rat.a,rat.b,rat.c,rat.s,rat.area()))"
   ]
  },
  {
   "cell_type": "markdown",
   "metadata": {},
   "source": [
    "#A4.T1.2 Write a function filter_long_words() that takes a list of words and an integer n and returns the list of words that are longer than n"
   ]
  },
  {
   "cell_type": "code",
   "execution_count": 17,
   "metadata": {},
   "outputs": [
    {
     "name": "stdout",
     "output_type": "stream",
     "text": [
      " List of items from the list: ['one', 'two', 'three', 'four', 'five', 'fix', 'seven']  where length of each word greater than : 4  are: ['three', 'seven']\n"
     ]
    }
   ],
   "source": [
    "def filter_long_words(l,n):\n",
    "    ls = []\n",
    "    for i in l:\n",
    "        if len(i)>n:\n",
    "            ls.append(i)\n",
    "    return ls\n",
    "l=['one','two','three','four','five','fix','seven']\n",
    "print(\" List of items from the list:\",l,\" where length of each word greater than :\",4,\" are:\",\n",
    "     filter_long_words(l,4))"
   ]
  },
  {
   "cell_type": "markdown",
   "metadata": {},
   "source": [
    "#A4.T2.1 Write a python program using function concept that maps list of words in to a list of integers representing the lengths of the corresponding words \n",
    "Hint : If a list [ab,cde,erty] is passed to the python functuion output should come as [2,3,4]\n",
    "    Here 2, 3, 4 are the length of each work respectively.\n",
    "    \n",
    "    "
   ]
  },
  {
   "cell_type": "code",
   "execution_count": 28,
   "metadata": {},
   "outputs": [
    {
     "name": "stdout",
     "output_type": "stream",
     "text": [
      " List of items from the list: ['ab', 'cde', 'erty']  List with length of each word is: [2, 3, 4]\n"
     ]
    }
   ],
   "source": [
    "def w2cinl(ls):\n",
    "    l=[]\n",
    "    for i in ls:\n",
    "        l.append(len(i))\n",
    "    return l\n",
    "ls=['ab','cde','erty']\n",
    "print(\" List of items from the list:\",ls,\" List with length of each word is:\",\n",
    "     w2cinl(ls))"
   ]
  },
  {
   "cell_type": "markdown",
   "metadata": {},
   "source": [
    "#A4.T2.2 Write a python function which takes a chanracter ( i.e a string of length 1 ) and returns True if it is a vowel, False otherwise\n",
    "\n"
   ]
  },
  {
   "cell_type": "code",
   "execution_count": 16,
   "metadata": {},
   "outputs": [
    {
     "name": "stdout",
     "output_type": "stream",
     "text": [
      "If this character  o  is Vowel ?: True\n",
      "If this character  0  is Vowel ?: False\n"
     ]
    }
   ],
   "source": [
    "def isthisVowel(c):\n",
    "    v=False\n",
    "    if len(c)==1 and c.isalpha()==True:\n",
    "        for i in ['a','e','i','o','u']:\n",
    "            if i==c:\n",
    "                v=True\n",
    "    return v\n",
    "        \n",
    "w='o'\n",
    "print(\"If this character \",w,\" is Vowel ?:\",isthisVowel(w))\n",
    "w='0'\n",
    "print(\"If this character \",w,\" is Vowel ?:\",isthisVowel(w))"
   ]
  },
  {
   "cell_type": "code",
   "execution_count": null,
   "metadata": {},
   "outputs": [],
   "source": []
  }
 ],
 "metadata": {
  "kernelspec": {
   "display_name": "Python 3",
   "language": "python",
   "name": "python3"
  },
  "language_info": {
   "codemirror_mode": {
    "name": "ipython",
    "version": 3
   },
   "file_extension": ".py",
   "mimetype": "text/x-python",
   "name": "python",
   "nbconvert_exporter": "python",
   "pygments_lexer": "ipython3",
   "version": "3.7.6"
  }
 },
 "nbformat": 4,
 "nbformat_minor": 4
}
