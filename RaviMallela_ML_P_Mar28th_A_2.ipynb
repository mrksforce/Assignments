{
 "cells": [
  {
   "cell_type": "markdown",
   "metadata": {},
   "source": [
    "A2.1 Create pattern using nested for loop in python."
   ]
  },
  {
   "cell_type": "code",
   "execution_count": 12,
   "metadata": {},
   "outputs": [
    {
     "name": "stdout",
     "output_type": "stream",
     "text": [
      "*\n",
      "**\n",
      "***\n",
      "****\n",
      "*****\n",
      "****\n",
      "***\n",
      "**\n",
      "*\n"
     ]
    }
   ],
   "source": [
    "for i in range(0,5):\n",
    "    j=0\n",
    "    pattern =''\n",
    "    while j<=i:\n",
    "        pattern=pattern+'*'\n",
    "        j=j+1\n",
    "    print(pattern)\n",
    "for i in range(4,0,-1):\n",
    "    j=0\n",
    "    pattern =''\n",
    "    while j<i:\n",
    "        pattern=pattern+'*'\n",
    "        j=j+1\n",
    "    print(pattern)"
   ]
  },
  {
   "cell_type": "markdown",
   "metadata": {},
   "source": [
    "A2.2 Write a program to reverse a word after accepting the input from the user"
   ]
  },
  {
   "cell_type": "code",
   "execution_count": 13,
   "metadata": {},
   "outputs": [
    {
     "name": "stdout",
     "output_type": "stream",
     "text": [
      "Please provide a word: ineuron\n",
      "Reversed word is:  norueni\n"
     ]
    }
   ],
   "source": [
    "word=input('Please provide a word: ')\n",
    "print('Reversed word is: ',word[::-1])"
   ]
  },
  {
   "cell_type": "code",
   "execution_count": null,
   "metadata": {},
   "outputs": [],
   "source": [
    "A2.3 Write a python program to print paragraph in indented style"
   ]
  },
  {
   "cell_type": "code",
   "execution_count": 17,
   "metadata": {},
   "outputs": [
    {
     "name": "stdout",
     "output_type": "stream",
     "text": [
      "WE, THE PEOPL OF INDIA,\n",
      " \thaving solemnly resolved to constitue india in to a SOVEREIGN,!\n",
      " \t\t SOCUALIST, SECULAR,SECULAR,DEMOCRATIC REPUBLIC\n",
      " \t\t  and to secure to all citizens\n"
     ]
    }
   ],
   "source": [
    "print('WE, THE PEOPL OF INDIA,\\n','\\thaving solemnly resolved to constitue india in to a SOVEREIGN,!\\n','\\t\\t SOCUALIST, SECULAR,SECULAR,DEMOCRATIC REPUBLIC\\n','\\t\\t  and to secure to all citizens')\n"
   ]
  },
  {
   "cell_type": "code",
   "execution_count": null,
   "metadata": {},
   "outputs": [],
   "source": []
  }
 ],
 "metadata": {
  "kernelspec": {
   "display_name": "Python 3",
   "language": "python",
   "name": "python3"
  },
  "language_info": {
   "codemirror_mode": {
    "name": "ipython",
    "version": 3
   },
   "file_extension": ".py",
   "mimetype": "text/x-python",
   "name": "python",
   "nbconvert_exporter": "python",
   "pygments_lexer": "ipython3",
   "version": "3.7.6"
  }
 },
 "nbformat": 4,
 "nbformat_minor": 4
}
