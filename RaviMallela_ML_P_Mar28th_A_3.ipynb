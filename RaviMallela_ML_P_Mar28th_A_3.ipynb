{
 "cells": [
  {
   "cell_type": "markdown",
   "metadata": {},
   "source": [
    "A3.1 Write a python program to implement your own myreduce() function which works exactly like Python built in function reduce()"
   ]
  },
  {
   "cell_type": "code",
   "execution_count": 10,
   "metadata": {},
   "outputs": [
    {
     "data": {
      "text/plain": [
       "16"
      ]
     },
     "execution_count": 10,
     "metadata": {},
     "output_type": "execute_result"
    }
   ],
   "source": [
    "# For reference only this reduce code.\n",
    "from functools import reduce\n",
    "lst =[1,2,3,4,5,True]\n",
    "reduce(lambda a,b: a+b,lst)\n"
   ]
  },
  {
   "cell_type": "code",
   "execution_count": 2,
   "metadata": {},
   "outputs": [
    {
     "name": "stdout",
     "output_type": "stream",
     "text": [
      "myreduce: 16\n",
      "myreduce: -14\n",
      "myreduce: 120\n",
      "myreduce: 1\n",
      "myreduce: 0.008333333333333333\n",
      "reduce 16\n",
      "reduce -14\n",
      "reduce 120\n",
      "reduce 1\n",
      "reduce 0.008333333333333333\n"
     ]
    }
   ],
   "source": [
    "#   A3.1 \n",
    "\n",
    "def sum2(x,y):\n",
    "    return x+y\n",
    "def sub2(x,y):\n",
    "    return x-y\n",
    "def multiply2(x,y):\n",
    "    return x*y\n",
    "def power2(x,y):\n",
    "    return x**y\n",
    "def divide2(x,y):\n",
    "    return x/y\n",
    "def myreduce(func,ls):\n",
    "    l1=list([ls[0]])\n",
    "    for i in range(1,len(ls)):\n",
    "        l2=list([ls[i]])\n",
    "        l1 = list(map(func,(l1),l2))\n",
    "    return l1[0]\n",
    "lst3=[1,2,3,4,5,True]   \n",
    "\n",
    "print('myreduce:',myreduce(sum2,lst3))\n",
    "print('myreduce:',myreduce(sub2,lst3))\n",
    "print('myreduce:',myreduce(multiply2,lst3))\n",
    "print('myreduce:',myreduce(power2,lst3))\n",
    "print('myreduce:',myreduce(divide2,lst3))\n",
    "\n",
    "from functools import reduce\n",
    "\n",
    "print('reduce',reduce(sum2,lst3))\n",
    "print('reduce',reduce(sub2,lst3))\n",
    "print('reduce',reduce(multiply2,lst3))\n",
    "print('reduce',reduce(power2,lst3))\n",
    "print('reduce',reduce(divide2,lst3))\n",
    "\n"
   ]
  },
  {
   "cell_type": "markdown",
   "metadata": {},
   "source": [
    "A3.2 Write a python program to implement your own myfilter() function which works exactly like python builtin filter() function.\n"
   ]
  },
  {
   "cell_type": "code",
   "execution_count": 13,
   "metadata": {},
   "outputs": [
    {
     "data": {
      "text/plain": [
       "[2, 4]"
      ]
     },
     "execution_count": 13,
     "metadata": {},
     "output_type": "execute_result"
    }
   ],
   "source": [
    "# for reference only\n",
    "def even_check(num):\n",
    "    if num%2 ==0:\n",
    "        return True\n",
    "list(filter(even_check,lst3))"
   ]
  },
  {
   "cell_type": "code",
   "execution_count": 111,
   "metadata": {},
   "outputs": [
    {
     "name": "stdout",
     "output_type": "stream",
     "text": [
      "List values we are passing to function  [1, '2', 2, 'a', 'b', '1a', True]\n",
      "NOT A MYFILTER TEST: False\n",
      "NOT A MYFILTER TEST: a\n",
      "NOT A MYFILTER TEST: False\n",
      "NOT A MYFILTER TEST: 2\n",
      "List values we are passing to function  [1, '2', 2, 'a', 'b', '1a', True]\n",
      "myfilter TEST even_check : [2]\n",
      "myfilter TEST vowel_check: ['a']\n",
      "myfilter TEST vowel_check: ['a', 'b', True]\n"
     ]
    }
   ],
   "source": [
    "#A3.2 myfilter solution\n",
    "def even_check(num):\n",
    "    try:\n",
    "        if num%2==0:\n",
    "            return num\n",
    "        else:\n",
    "            return False\n",
    "    except (ValueError, RuntimeError, TypeError, NameError):\n",
    "            return False\n",
    "def vowel_check(ch):\n",
    "    vowel = ['a','e','i','o','u']\n",
    "    try:\n",
    "        if(str(vowel.index(ch)).isalnum()):\n",
    "            return ch\n",
    "        else:\n",
    "            return False\n",
    "    except (ValueError, RuntimeError, TypeError, NameError):\n",
    "            return False\n",
    "def alpha_check(num):\n",
    "    try:\n",
    "        if str(num).isalpha():\n",
    "            return num\n",
    "        else:\n",
    "            return False\n",
    "    except (ValueError, RuntimeError, TypeError, NameError):\n",
    "        return False\n",
    "        \n",
    "def myfilter(func,ls):\n",
    "    l=[]\n",
    "    counter=0\n",
    "    for i in ls:\n",
    "        l1=list([i])\n",
    "        l2=list(map(func,l1))\n",
    "        if l2[0]!=False :\n",
    "            l.append(i)\n",
    "    return l\n",
    "\n",
    "lst=[1,'2',2,'a','b','1a',True]\n",
    "print('List values we are passing to function ',lst)\n",
    "print('NOT A MYFILTER TEST:',vowel_check('s'))\n",
    "print('NOT A MYFILTER TEST:',vowel_check('a'))\n",
    "print('NOT A MYFILTER TEST:',even_check(1))\n",
    "print('NOT A MYFILTER TEST:',even_check(2))\n",
    "print('List values we are passing to function ',lst)\n",
    "print('myfilter TEST even_check :',myfilter(even_check,lst))\n",
    "print('myfilter TEST vowel_check:',myfilter(vowel_check,lst))\n",
    "print('myfilter TEST alpha_check:',myfilter(alpha_check,lst))"
   ]
  },
  {
   "cell_type": "code",
   "execution_count": 1,
   "metadata": {},
   "outputs": [
    {
     "name": "stdout",
     "output_type": "stream",
     "text": [
      "['x', 'xx', 'xxx', 'y', 'yy', 'yyy', 'z', 'zz', 'zzz']\n"
     ]
    }
   ],
   "source": [
    "#A3.3 Implement list Comprehensions to produce the following lists\n",
    "# ['x','xx','xxx','xxxx','y','yy','yyy','yyyy','z','zz','zzz','zzzz',]\n",
    "print(['x'*(i+1) for i in range(3)]+\n",
    "      ['y'*(i+1) for i in range(3)]+\n",
    "      ['z'*(i+1) for i in range(3)])\n"
   ]
  },
  {
   "cell_type": "code",
   "execution_count": 34,
   "metadata": {},
   "outputs": [
    {
     "name": "stdout",
     "output_type": "stream",
     "text": [
      "['x', 'y', 'z', 'xx', 'yy', 'zz', 'xxx', 'yyy', 'zzz']\n"
     ]
    }
   ],
   "source": [
    "# ['x','y','z','xx','yy','zz','xxx','yyy','zzz','xxxx','yyyy','zzzz',]\n",
    "def m(l,n):\n",
    "    s=[]\n",
    "    s=list(l)\n",
    "    for i in range(2,n):\n",
    "        for k in range(len(l)):\n",
    "            s.append(l[k]*i)\n",
    "    return s\n",
    "\n",
    "print(list(m(['x','y','z'],i) for i in range(4,5))[0])\n"
   ]
  },
  {
   "cell_type": "code",
   "execution_count": 18,
   "metadata": {},
   "outputs": [
    {
     "name": "stdout",
     "output_type": "stream",
     "text": [
      "[[2], [3], [4], [3], [4], [5], [4], [5], [6], [2, 3, 4, 5], [3, 4, 5, 6], [4, 5, 6, 7], [5, 6, 7, 8]]\n"
     ]
    }
   ],
   "source": [
    "# [[2],[3],[4],[3],[4],[5],[4],[5],[6]][[2,3,4,5],[3,4,5,6]]\n",
    "\n",
    "def wierdseries(l1,l2,c1,c2):\n",
    "    l=[]\n",
    "    c=1\n",
    "    for i in range(2,l1):\n",
    "        c=c+1\n",
    "        for j in range(c,c+c1):\n",
    "            l.append([j])\n",
    "    c=1\n",
    "    for i in range(2,l2):\n",
    "        c=c+1\n",
    "        m=[] \n",
    "        for j in range(c,c+c2):\n",
    "            m.append(j)\n",
    "        l.append(m)\n",
    "    return l\n",
    "print(list([wierdseries(x+1,x+2,x-1,x) for x in [4]])[0])\n",
    "\n"
   ]
  },
  {
   "cell_type": "code",
   "execution_count": 16,
   "metadata": {},
   "outputs": [
    {
     "name": "stdout",
     "output_type": "stream",
     "text": [
      "[(1, 1), (2, 1), (3, 1), (1, 2), (2, 2), (3, 2), (1, 3), (2, 3), (3, 3)]\n"
     ]
    }
   ],
   "source": [
    "# [(1,1),(2,1),(3,1),(1,2),(2,2),(3,2),(1,3),(2,3),(3,3)]\n",
    "def sl(n):\n",
    "    l=[]\n",
    "    for i in range(1,n):\n",
    "        for j in range(1,n):\n",
    "            l.append((j,i))\n",
    "    return l\n",
    "\n",
    "print([sl(i) for i in [4]][0])\n",
    "\n",
    "\n",
    "\n",
    "\n"
   ]
  }
 ],
 "metadata": {
  "kernelspec": {
   "display_name": "Python 3",
   "language": "python",
   "name": "python3"
  },
  "language_info": {
   "codemirror_mode": {
    "name": "ipython",
    "version": 3
   },
   "file_extension": ".py",
   "mimetype": "text/x-python",
   "name": "python",
   "nbconvert_exporter": "python",
   "pygments_lexer": "ipython3",
   "version": "3.7.6"
  }
 },
 "nbformat": 4,
 "nbformat_minor": 4
}
